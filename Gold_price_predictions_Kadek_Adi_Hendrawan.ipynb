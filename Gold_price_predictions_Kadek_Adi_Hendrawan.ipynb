{
  "nbformat": 4,
  "nbformat_minor": 0,
  "metadata": {
    "colab": {
      "provenance": [],
      "gpuType": "T4",
      "authorship_tag": "ABX9TyPOpwxAdo39iP9yfMofhsAM",
      "include_colab_link": true
    },
    "kernelspec": {
      "name": "python3",
      "display_name": "Python 3"
    },
    "language_info": {
      "name": "python"
    },
    "accelerator": "GPU"
  },
  "cells": [
    {
      "cell_type": "markdown",
      "metadata": {
        "id": "view-in-github",
        "colab_type": "text"
      },
      "source": [
        "<a href=\"https://colab.research.google.com/github/adihend/data-analytics/blob/main/Gold_price_predictions_Kadek_Adi_Hendrawan.ipynb\" target=\"_parent\"><img src=\"https://colab.research.google.com/assets/colab-badge.svg\" alt=\"Open In Colab\"/></a>"
      ]
    },
    {
      "cell_type": "markdown",
      "source": [
        "# Tugas Machine Learning\n",
        "\n",
        "\n",
        "*   Nama: Kadek Adi Hendrawan\n",
        "*   NPM: 22262011190\n",
        "*   Kelas: TI 122PA\n",
        "\n",
        "\n",
        "\n",
        "## Memprediksi harga emas 4 tahun mendatang sejak data terakhir di tahun 2021\n",
        "\n",
        "![images.jpeg](data:image/jpeg;base64,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)\n",
        "\n",
        "\n",
        "\n",
        "---\n",
        "\n"
      ],
      "metadata": {
        "id": "sTn_oAasNutc"
      }
    },
    {
      "cell_type": "markdown",
      "source": [
        "## Context\n",
        "The database contains historic gold prices of 18 different countries in their respective currencies\n",
        "\n",
        "---\n",
        "### Sumber Data\n",
        "*   Dataset bisa diakses di: [GDrive](https://drive.google.com/file/d/1nXY71YgqQHO_uIECs-z0djsa5Qt6gc3x/view?usp=sharing)\n",
        "\n",
        "*   Dataset bisa diakses di: [Kaggle](https://www.kaggle.com/datasets/odins0n/monthly-gold-prices)\n",
        "\n",
        "\n"
      ],
      "metadata": {
        "id": "bBWXwD9JPUdx"
      }
    },
    {
      "cell_type": "code",
      "execution_count": 104,
      "metadata": {
        "colab": {
          "base_uri": "https://localhost:8080/"
        },
        "id": "v2nCOAIUNJ8-",
        "outputId": "1d50b8d5-e5a1-40f5-a89f-fb09db0659b8",
        "cellView": "form"
      },
      "outputs": [
        {
          "output_type": "stream",
          "name": "stdout",
          "text": [
            "Drive already mounted at /content/gdrive; to attempt to forcibly remount, call drive.mount(\"/content/gdrive\", force_remount=True).\n"
          ]
        }
      ],
      "source": [
        "#@title Mount Drive\n",
        "from google.colab import drive\n",
        "drive.mount(\"/content/gdrive\")"
      ]
    },
    {
      "cell_type": "code",
      "source": [
        "# @title Import Data\n",
        "import pandas as pd\n",
        "goldset = pd.read_csv('/content/gdrive/MyDrive/Colab Notebooks/1990-2021 Gold Predic.csv')\n",
        "goldset"
      ],
      "metadata": {
        "colab": {
          "base_uri": "https://localhost:8080/",
          "height": 808
        },
        "id": "m-PfCE0KRjp6",
        "outputId": "e12da533-2986-48a3-d874-c97de0c236d3",
        "cellView": "form"
      },
      "execution_count": 105,
      "outputs": [
        {
          "output_type": "execute_result",
          "data": {
            "text/plain": [
              "           Date  United States(USD)  Europe(EUR)  Japan(JPY)  \\\n",
              "0    31-01-1990               415.1        321.3     59972.3   \n",
              "1    28-02-1990               407.7        316.2     60672.5   \n",
              "2    30-03-1990               368.5        283.9     57987.1   \n",
              "3    30-04-1990               367.8        280.7     58375.7   \n",
              "4    31-05-1990               363.1        280.2     55420.9   \n",
              "..          ...                 ...          ...         ...   \n",
              "374  31-03-2021              1691.1       1438.8    186861.0   \n",
              "375  30-04-2021              1767.7       1468.4    193213.0   \n",
              "376  31-05-2021              1900.0       1554.0    207845.0   \n",
              "377  30-06-2021              1763.2       1486.8    195692.0   \n",
              "378  30-07-2021              1825.8       1539.7    200376.1   \n",
              "\n",
              "     United Kingdom(GBP)  Canada(CAD)  Switzerland(CHF)  India(INR)  \\\n",
              "0                  247.1        492.0             623.8      7041.0   \n",
              "1                  241.2        485.7             607.9      6957.4   \n",
              "2                  223.7        431.0             550.8      6334.4   \n",
              "3                  224.3        428.3             533.9      6379.3   \n",
              "4                  216.5        426.2             520.1      6295.5   \n",
              "..                   ...          ...               ...         ...   \n",
              "374               1225.7       2125.4            1591.5    123639.0   \n",
              "375               1276.7       2174.6            1612.2    130934.3   \n",
              "376               1336.6       2295.3            1708.7    137979.1   \n",
              "377               1276.3       2183.3            1629.8    131054.9   \n",
              "378               1313.2       2279.2            1654.7    135863.2   \n",
              "\n",
              "     China(CNY)  Turkey(TRY)  Saudi Arabia(SAR)  Indonesia(IDR)  \\\n",
              "0        1930.2          1.0             1557.4        745400.5   \n",
              "1        1936.8          1.0             1527.7        747408.3   \n",
              "2        1717.1          0.9             1376.8        652783.7   \n",
              "3        1739.6          0.9             1370.0        669724.5   \n",
              "4        1717.4          0.9             1371.7        671905.9   \n",
              "..          ...          ...                ...             ...   \n",
              "374     11084.8      13995.6             6342.1      24562502.0   \n",
              "375     11439.4      14657.4             6628.9      25533702.8   \n",
              "376     12084.8      16105.4             7125.4      27131285.3   \n",
              "377     11392.5      15317.4             6612.5      25565673.6   \n",
              "378     11787.6      15376.5             6847.3      26404909.4   \n",
              "\n",
              "     United Arab Emirates(AED)  Thailand(THB)  Vietnam(VND)  Egypt(EGP)  \\\n",
              "0                       1524.9        10623.3     1867170.0      1059.9   \n",
              "1                       1496.0        10494.1     1853648.1      1085.6   \n",
              "2                       1348.1         9506.1     1622520.2       947.3   \n",
              "3                       1341.5         9510.6     1651644.8       982.5   \n",
              "4                       1343.2         9352.3     1646877.6       988.3   \n",
              "..                         ...            ...           ...         ...   \n",
              "374                     6211.5        52845.3    39020979.9     26579.1   \n",
              "375                     6492.8        55040.2    40753168.5     27681.4   \n",
              "376                     6978.3        59344.9    43786246.6     29772.2   \n",
              "377                     6476.3        56509.0    40580658.2     27672.6   \n",
              "378                     6706.3        60007.8    41910091.3     28673.4   \n",
              "\n",
              "     South Korean(KRW)  Australia(AUD)  South Africa(ZAR)  \n",
              "0             283240.8           540.0             1063.2  \n",
              "1             282356.4           534.1             1040.4  \n",
              "2             257424.6           488.4              976.9  \n",
              "3             258294.2           488.9              975.8  \n",
              "4             261068.1           472.2              967.3  \n",
              "..                 ...             ...                ...  \n",
              "374          1913845.9          2220.3            24970.5  \n",
              "375          1966245.4          2288.4            25644.2  \n",
              "376          2110939.4          2454.6            26067.3  \n",
              "377          1985571.3          2348.5            25175.6  \n",
              "378          2100068.9          2483.8            26708.4  \n",
              "\n",
              "[379 rows x 19 columns]"
            ],
            "text/html": [
              "\n",
              "  <div id=\"df-3012bf17-0eaf-40be-a56d-ab0ac0620945\" class=\"colab-df-container\">\n",
              "    <div>\n",
              "<style scoped>\n",
              "    .dataframe tbody tr th:only-of-type {\n",
              "        vertical-align: middle;\n",
              "    }\n",
              "\n",
              "    .dataframe tbody tr th {\n",
              "        vertical-align: top;\n",
              "    }\n",
              "\n",
              "    .dataframe thead th {\n",
              "        text-align: right;\n",
              "    }\n",
              "</style>\n",
              "<table border=\"1\" class=\"dataframe\">\n",
              "  <thead>\n",
              "    <tr style=\"text-align: right;\">\n",
              "      <th></th>\n",
              "      <th>Date</th>\n",
              "      <th>United States(USD)</th>\n",
              "      <th>Europe(EUR)</th>\n",
              "      <th>Japan(JPY)</th>\n",
              "      <th>United Kingdom(GBP)</th>\n",
              "      <th>Canada(CAD)</th>\n",
              "      <th>Switzerland(CHF)</th>\n",
              "      <th>India(INR)</th>\n",
              "      <th>China(CNY)</th>\n",
              "      <th>Turkey(TRY)</th>\n",
              "      <th>Saudi Arabia(SAR)</th>\n",
              "      <th>Indonesia(IDR)</th>\n",
              "      <th>United Arab Emirates(AED)</th>\n",
              "      <th>Thailand(THB)</th>\n",
              "      <th>Vietnam(VND)</th>\n",
              "      <th>Egypt(EGP)</th>\n",
              "      <th>South Korean(KRW)</th>\n",
              "      <th>Australia(AUD)</th>\n",
              "      <th>South Africa(ZAR)</th>\n",
              "    </tr>\n",
              "  </thead>\n",
              "  <tbody>\n",
              "    <tr>\n",
              "      <th>0</th>\n",
              "      <td>31-01-1990</td>\n",
              "      <td>415.1</td>\n",
              "      <td>321.3</td>\n",
              "      <td>59972.3</td>\n",
              "      <td>247.1</td>\n",
              "      <td>492.0</td>\n",
              "      <td>623.8</td>\n",
              "      <td>7041.0</td>\n",
              "      <td>1930.2</td>\n",
              "      <td>1.0</td>\n",
              "      <td>1557.4</td>\n",
              "      <td>745400.5</td>\n",
              "      <td>1524.9</td>\n",
              "      <td>10623.3</td>\n",
              "      <td>1867170.0</td>\n",
              "      <td>1059.9</td>\n",
              "      <td>283240.8</td>\n",
              "      <td>540.0</td>\n",
              "      <td>1063.2</td>\n",
              "    </tr>\n",
              "    <tr>\n",
              "      <th>1</th>\n",
              "      <td>28-02-1990</td>\n",
              "      <td>407.7</td>\n",
              "      <td>316.2</td>\n",
              "      <td>60672.5</td>\n",
              "      <td>241.2</td>\n",
              "      <td>485.7</td>\n",
              "      <td>607.9</td>\n",
              "      <td>6957.4</td>\n",
              "      <td>1936.8</td>\n",
              "      <td>1.0</td>\n",
              "      <td>1527.7</td>\n",
              "      <td>747408.3</td>\n",
              "      <td>1496.0</td>\n",
              "      <td>10494.1</td>\n",
              "      <td>1853648.1</td>\n",
              "      <td>1085.6</td>\n",
              "      <td>282356.4</td>\n",
              "      <td>534.1</td>\n",
              "      <td>1040.4</td>\n",
              "    </tr>\n",
              "    <tr>\n",
              "      <th>2</th>\n",
              "      <td>30-03-1990</td>\n",
              "      <td>368.5</td>\n",
              "      <td>283.9</td>\n",
              "      <td>57987.1</td>\n",
              "      <td>223.7</td>\n",
              "      <td>431.0</td>\n",
              "      <td>550.8</td>\n",
              "      <td>6334.4</td>\n",
              "      <td>1717.1</td>\n",
              "      <td>0.9</td>\n",
              "      <td>1376.8</td>\n",
              "      <td>652783.7</td>\n",
              "      <td>1348.1</td>\n",
              "      <td>9506.1</td>\n",
              "      <td>1622520.2</td>\n",
              "      <td>947.3</td>\n",
              "      <td>257424.6</td>\n",
              "      <td>488.4</td>\n",
              "      <td>976.9</td>\n",
              "    </tr>\n",
              "    <tr>\n",
              "      <th>3</th>\n",
              "      <td>30-04-1990</td>\n",
              "      <td>367.8</td>\n",
              "      <td>280.7</td>\n",
              "      <td>58375.7</td>\n",
              "      <td>224.3</td>\n",
              "      <td>428.3</td>\n",
              "      <td>533.9</td>\n",
              "      <td>6379.3</td>\n",
              "      <td>1739.6</td>\n",
              "      <td>0.9</td>\n",
              "      <td>1370.0</td>\n",
              "      <td>669724.5</td>\n",
              "      <td>1341.5</td>\n",
              "      <td>9510.6</td>\n",
              "      <td>1651644.8</td>\n",
              "      <td>982.5</td>\n",
              "      <td>258294.2</td>\n",
              "      <td>488.9</td>\n",
              "      <td>975.8</td>\n",
              "    </tr>\n",
              "    <tr>\n",
              "      <th>4</th>\n",
              "      <td>31-05-1990</td>\n",
              "      <td>363.1</td>\n",
              "      <td>280.2</td>\n",
              "      <td>55420.9</td>\n",
              "      <td>216.5</td>\n",
              "      <td>426.2</td>\n",
              "      <td>520.1</td>\n",
              "      <td>6295.5</td>\n",
              "      <td>1717.4</td>\n",
              "      <td>0.9</td>\n",
              "      <td>1371.7</td>\n",
              "      <td>671905.9</td>\n",
              "      <td>1343.2</td>\n",
              "      <td>9352.3</td>\n",
              "      <td>1646877.6</td>\n",
              "      <td>988.3</td>\n",
              "      <td>261068.1</td>\n",
              "      <td>472.2</td>\n",
              "      <td>967.3</td>\n",
              "    </tr>\n",
              "    <tr>\n",
              "      <th>...</th>\n",
              "      <td>...</td>\n",
              "      <td>...</td>\n",
              "      <td>...</td>\n",
              "      <td>...</td>\n",
              "      <td>...</td>\n",
              "      <td>...</td>\n",
              "      <td>...</td>\n",
              "      <td>...</td>\n",
              "      <td>...</td>\n",
              "      <td>...</td>\n",
              "      <td>...</td>\n",
              "      <td>...</td>\n",
              "      <td>...</td>\n",
              "      <td>...</td>\n",
              "      <td>...</td>\n",
              "      <td>...</td>\n",
              "      <td>...</td>\n",
              "      <td>...</td>\n",
              "      <td>...</td>\n",
              "    </tr>\n",
              "    <tr>\n",
              "      <th>374</th>\n",
              "      <td>31-03-2021</td>\n",
              "      <td>1691.1</td>\n",
              "      <td>1438.8</td>\n",
              "      <td>186861.0</td>\n",
              "      <td>1225.7</td>\n",
              "      <td>2125.4</td>\n",
              "      <td>1591.5</td>\n",
              "      <td>123639.0</td>\n",
              "      <td>11084.8</td>\n",
              "      <td>13995.6</td>\n",
              "      <td>6342.1</td>\n",
              "      <td>24562502.0</td>\n",
              "      <td>6211.5</td>\n",
              "      <td>52845.3</td>\n",
              "      <td>39020979.9</td>\n",
              "      <td>26579.1</td>\n",
              "      <td>1913845.9</td>\n",
              "      <td>2220.3</td>\n",
              "      <td>24970.5</td>\n",
              "    </tr>\n",
              "    <tr>\n",
              "      <th>375</th>\n",
              "      <td>30-04-2021</td>\n",
              "      <td>1767.7</td>\n",
              "      <td>1468.4</td>\n",
              "      <td>193213.0</td>\n",
              "      <td>1276.7</td>\n",
              "      <td>2174.6</td>\n",
              "      <td>1612.2</td>\n",
              "      <td>130934.3</td>\n",
              "      <td>11439.4</td>\n",
              "      <td>14657.4</td>\n",
              "      <td>6628.9</td>\n",
              "      <td>25533702.8</td>\n",
              "      <td>6492.8</td>\n",
              "      <td>55040.2</td>\n",
              "      <td>40753168.5</td>\n",
              "      <td>27681.4</td>\n",
              "      <td>1966245.4</td>\n",
              "      <td>2288.4</td>\n",
              "      <td>25644.2</td>\n",
              "    </tr>\n",
              "    <tr>\n",
              "      <th>376</th>\n",
              "      <td>31-05-2021</td>\n",
              "      <td>1900.0</td>\n",
              "      <td>1554.0</td>\n",
              "      <td>207845.0</td>\n",
              "      <td>1336.6</td>\n",
              "      <td>2295.3</td>\n",
              "      <td>1708.7</td>\n",
              "      <td>137979.1</td>\n",
              "      <td>12084.8</td>\n",
              "      <td>16105.4</td>\n",
              "      <td>7125.4</td>\n",
              "      <td>27131285.3</td>\n",
              "      <td>6978.3</td>\n",
              "      <td>59344.9</td>\n",
              "      <td>43786246.6</td>\n",
              "      <td>29772.2</td>\n",
              "      <td>2110939.4</td>\n",
              "      <td>2454.6</td>\n",
              "      <td>26067.3</td>\n",
              "    </tr>\n",
              "    <tr>\n",
              "      <th>377</th>\n",
              "      <td>30-06-2021</td>\n",
              "      <td>1763.2</td>\n",
              "      <td>1486.8</td>\n",
              "      <td>195692.0</td>\n",
              "      <td>1276.3</td>\n",
              "      <td>2183.3</td>\n",
              "      <td>1629.8</td>\n",
              "      <td>131054.9</td>\n",
              "      <td>11392.5</td>\n",
              "      <td>15317.4</td>\n",
              "      <td>6612.5</td>\n",
              "      <td>25565673.6</td>\n",
              "      <td>6476.3</td>\n",
              "      <td>56509.0</td>\n",
              "      <td>40580658.2</td>\n",
              "      <td>27672.6</td>\n",
              "      <td>1985571.3</td>\n",
              "      <td>2348.5</td>\n",
              "      <td>25175.6</td>\n",
              "    </tr>\n",
              "    <tr>\n",
              "      <th>378</th>\n",
              "      <td>30-07-2021</td>\n",
              "      <td>1825.8</td>\n",
              "      <td>1539.7</td>\n",
              "      <td>200376.1</td>\n",
              "      <td>1313.2</td>\n",
              "      <td>2279.2</td>\n",
              "      <td>1654.7</td>\n",
              "      <td>135863.2</td>\n",
              "      <td>11787.6</td>\n",
              "      <td>15376.5</td>\n",
              "      <td>6847.3</td>\n",
              "      <td>26404909.4</td>\n",
              "      <td>6706.3</td>\n",
              "      <td>60007.8</td>\n",
              "      <td>41910091.3</td>\n",
              "      <td>28673.4</td>\n",
              "      <td>2100068.9</td>\n",
              "      <td>2483.8</td>\n",
              "      <td>26708.4</td>\n",
              "    </tr>\n",
              "  </tbody>\n",
              "</table>\n",
              "<p>379 rows × 19 columns</p>\n",
              "</div>\n",
              "    <div class=\"colab-df-buttons\">\n",
              "\n",
              "  <div class=\"colab-df-container\">\n",
              "    <button class=\"colab-df-convert\" onclick=\"convertToInteractive('df-3012bf17-0eaf-40be-a56d-ab0ac0620945')\"\n",
              "            title=\"Convert this dataframe to an interactive table.\"\n",
              "            style=\"display:none;\">\n",
              "\n",
              "  <svg xmlns=\"http://www.w3.org/2000/svg\" height=\"24px\" viewBox=\"0 -960 960 960\">\n",
              "    <path d=\"M120-120v-720h720v720H120Zm60-500h600v-160H180v160Zm220 220h160v-160H400v160Zm0 220h160v-160H400v160ZM180-400h160v-160H180v160Zm440 0h160v-160H620v160ZM180-180h160v-160H180v160Zm440 0h160v-160H620v160Z\"/>\n",
              "  </svg>\n",
              "    </button>\n",
              "\n",
              "  <style>\n",
              "    .colab-df-container {\n",
              "      display:flex;\n",
              "      gap: 12px;\n",
              "    }\n",
              "\n",
              "    .colab-df-convert {\n",
              "      background-color: #E8F0FE;\n",
              "      border: none;\n",
              "      border-radius: 50%;\n",
              "      cursor: pointer;\n",
              "      display: none;\n",
              "      fill: #1967D2;\n",
              "      height: 32px;\n",
              "      padding: 0 0 0 0;\n",
              "      width: 32px;\n",
              "    }\n",
              "\n",
              "    .colab-df-convert:hover {\n",
              "      background-color: #E2EBFA;\n",
              "      box-shadow: 0px 1px 2px rgba(60, 64, 67, 0.3), 0px 1px 3px 1px rgba(60, 64, 67, 0.15);\n",
              "      fill: #174EA6;\n",
              "    }\n",
              "\n",
              "    .colab-df-buttons div {\n",
              "      margin-bottom: 4px;\n",
              "    }\n",
              "\n",
              "    [theme=dark] .colab-df-convert {\n",
              "      background-color: #3B4455;\n",
              "      fill: #D2E3FC;\n",
              "    }\n",
              "\n",
              "    [theme=dark] .colab-df-convert:hover {\n",
              "      background-color: #434B5C;\n",
              "      box-shadow: 0px 1px 3px 1px rgba(0, 0, 0, 0.15);\n",
              "      filter: drop-shadow(0px 1px 2px rgba(0, 0, 0, 0.3));\n",
              "      fill: #FFFFFF;\n",
              "    }\n",
              "  </style>\n",
              "\n",
              "    <script>\n",
              "      const buttonEl =\n",
              "        document.querySelector('#df-3012bf17-0eaf-40be-a56d-ab0ac0620945 button.colab-df-convert');\n",
              "      buttonEl.style.display =\n",
              "        google.colab.kernel.accessAllowed ? 'block' : 'none';\n",
              "\n",
              "      async function convertToInteractive(key) {\n",
              "        const element = document.querySelector('#df-3012bf17-0eaf-40be-a56d-ab0ac0620945');\n",
              "        const dataTable =\n",
              "          await google.colab.kernel.invokeFunction('convertToInteractive',\n",
              "                                                    [key], {});\n",
              "        if (!dataTable) return;\n",
              "\n",
              "        const docLinkHtml = 'Like what you see? Visit the ' +\n",
              "          '<a target=\"_blank\" href=https://colab.research.google.com/notebooks/data_table.ipynb>data table notebook</a>'\n",
              "          + ' to learn more about interactive tables.';\n",
              "        element.innerHTML = '';\n",
              "        dataTable['output_type'] = 'display_data';\n",
              "        await google.colab.output.renderOutput(dataTable, element);\n",
              "        const docLink = document.createElement('div');\n",
              "        docLink.innerHTML = docLinkHtml;\n",
              "        element.appendChild(docLink);\n",
              "      }\n",
              "    </script>\n",
              "  </div>\n",
              "\n",
              "\n",
              "<div id=\"df-42f134b8-5bdb-478b-83b6-7a5f301080aa\">\n",
              "  <button class=\"colab-df-quickchart\" onclick=\"quickchart('df-42f134b8-5bdb-478b-83b6-7a5f301080aa')\"\n",
              "            title=\"Suggest charts\"\n",
              "            style=\"display:none;\">\n",
              "\n",
              "<svg xmlns=\"http://www.w3.org/2000/svg\" height=\"24px\"viewBox=\"0 0 24 24\"\n",
              "     width=\"24px\">\n",
              "    <g>\n",
              "        <path d=\"M19 3H5c-1.1 0-2 .9-2 2v14c0 1.1.9 2 2 2h14c1.1 0 2-.9 2-2V5c0-1.1-.9-2-2-2zM9 17H7v-7h2v7zm4 0h-2V7h2v10zm4 0h-2v-4h2v4z\"/>\n",
              "    </g>\n",
              "</svg>\n",
              "  </button>\n",
              "\n",
              "<style>\n",
              "  .colab-df-quickchart {\n",
              "      --bg-color: #E8F0FE;\n",
              "      --fill-color: #1967D2;\n",
              "      --hover-bg-color: #E2EBFA;\n",
              "      --hover-fill-color: #174EA6;\n",
              "      --disabled-fill-color: #AAA;\n",
              "      --disabled-bg-color: #DDD;\n",
              "  }\n",
              "\n",
              "  [theme=dark] .colab-df-quickchart {\n",
              "      --bg-color: #3B4455;\n",
              "      --fill-color: #D2E3FC;\n",
              "      --hover-bg-color: #434B5C;\n",
              "      --hover-fill-color: #FFFFFF;\n",
              "      --disabled-bg-color: #3B4455;\n",
              "      --disabled-fill-color: #666;\n",
              "  }\n",
              "\n",
              "  .colab-df-quickchart {\n",
              "    background-color: var(--bg-color);\n",
              "    border: none;\n",
              "    border-radius: 50%;\n",
              "    cursor: pointer;\n",
              "    display: none;\n",
              "    fill: var(--fill-color);\n",
              "    height: 32px;\n",
              "    padding: 0;\n",
              "    width: 32px;\n",
              "  }\n",
              "\n",
              "  .colab-df-quickchart:hover {\n",
              "    background-color: var(--hover-bg-color);\n",
              "    box-shadow: 0 1px 2px rgba(60, 64, 67, 0.3), 0 1px 3px 1px rgba(60, 64, 67, 0.15);\n",
              "    fill: var(--button-hover-fill-color);\n",
              "  }\n",
              "\n",
              "  .colab-df-quickchart-complete:disabled,\n",
              "  .colab-df-quickchart-complete:disabled:hover {\n",
              "    background-color: var(--disabled-bg-color);\n",
              "    fill: var(--disabled-fill-color);\n",
              "    box-shadow: none;\n",
              "  }\n",
              "\n",
              "  .colab-df-spinner {\n",
              "    border: 2px solid var(--fill-color);\n",
              "    border-color: transparent;\n",
              "    border-bottom-color: var(--fill-color);\n",
              "    animation:\n",
              "      spin 1s steps(1) infinite;\n",
              "  }\n",
              "\n",
              "  @keyframes spin {\n",
              "    0% {\n",
              "      border-color: transparent;\n",
              "      border-bottom-color: var(--fill-color);\n",
              "      border-left-color: var(--fill-color);\n",
              "    }\n",
              "    20% {\n",
              "      border-color: transparent;\n",
              "      border-left-color: var(--fill-color);\n",
              "      border-top-color: var(--fill-color);\n",
              "    }\n",
              "    30% {\n",
              "      border-color: transparent;\n",
              "      border-left-color: var(--fill-color);\n",
              "      border-top-color: var(--fill-color);\n",
              "      border-right-color: var(--fill-color);\n",
              "    }\n",
              "    40% {\n",
              "      border-color: transparent;\n",
              "      border-right-color: var(--fill-color);\n",
              "      border-top-color: var(--fill-color);\n",
              "    }\n",
              "    60% {\n",
              "      border-color: transparent;\n",
              "      border-right-color: var(--fill-color);\n",
              "    }\n",
              "    80% {\n",
              "      border-color: transparent;\n",
              "      border-right-color: var(--fill-color);\n",
              "      border-bottom-color: var(--fill-color);\n",
              "    }\n",
              "    90% {\n",
              "      border-color: transparent;\n",
              "      border-bottom-color: var(--fill-color);\n",
              "    }\n",
              "  }\n",
              "</style>\n",
              "\n",
              "  <script>\n",
              "    async function quickchart(key) {\n",
              "      const quickchartButtonEl =\n",
              "        document.querySelector('#' + key + ' button');\n",
              "      quickchartButtonEl.disabled = true;  // To prevent multiple clicks.\n",
              "      quickchartButtonEl.classList.add('colab-df-spinner');\n",
              "      try {\n",
              "        const charts = await google.colab.kernel.invokeFunction(\n",
              "            'suggestCharts', [key], {});\n",
              "      } catch (error) {\n",
              "        console.error('Error during call to suggestCharts:', error);\n",
              "      }\n",
              "      quickchartButtonEl.classList.remove('colab-df-spinner');\n",
              "      quickchartButtonEl.classList.add('colab-df-quickchart-complete');\n",
              "    }\n",
              "    (() => {\n",
              "      let quickchartButtonEl =\n",
              "        document.querySelector('#df-42f134b8-5bdb-478b-83b6-7a5f301080aa button');\n",
              "      quickchartButtonEl.style.display =\n",
              "        google.colab.kernel.accessAllowed ? 'block' : 'none';\n",
              "    })();\n",
              "  </script>\n",
              "</div>\n",
              "\n",
              "  <div id=\"id_87f4823d-4a7c-4043-948b-ac5cdb08eec1\">\n",
              "    <style>\n",
              "      .colab-df-generate {\n",
              "        background-color: #E8F0FE;\n",
              "        border: none;\n",
              "        border-radius: 50%;\n",
              "        cursor: pointer;\n",
              "        display: none;\n",
              "        fill: #1967D2;\n",
              "        height: 32px;\n",
              "        padding: 0 0 0 0;\n",
              "        width: 32px;\n",
              "      }\n",
              "\n",
              "      .colab-df-generate:hover {\n",
              "        background-color: #E2EBFA;\n",
              "        box-shadow: 0px 1px 2px rgba(60, 64, 67, 0.3), 0px 1px 3px 1px rgba(60, 64, 67, 0.15);\n",
              "        fill: #174EA6;\n",
              "      }\n",
              "\n",
              "      [theme=dark] .colab-df-generate {\n",
              "        background-color: #3B4455;\n",
              "        fill: #D2E3FC;\n",
              "      }\n",
              "\n",
              "      [theme=dark] .colab-df-generate:hover {\n",
              "        background-color: #434B5C;\n",
              "        box-shadow: 0px 1px 3px 1px rgba(0, 0, 0, 0.15);\n",
              "        filter: drop-shadow(0px 1px 2px rgba(0, 0, 0, 0.3));\n",
              "        fill: #FFFFFF;\n",
              "      }\n",
              "    </style>\n",
              "    <button class=\"colab-df-generate\" onclick=\"generateWithVariable('goldset')\"\n",
              "            title=\"Generate code using this dataframe.\"\n",
              "            style=\"display:none;\">\n",
              "\n",
              "  <svg xmlns=\"http://www.w3.org/2000/svg\" height=\"24px\"viewBox=\"0 0 24 24\"\n",
              "       width=\"24px\">\n",
              "    <path d=\"M7,19H8.4L18.45,9,17,7.55,7,17.6ZM5,21V16.75L18.45,3.32a2,2,0,0,1,2.83,0l1.4,1.43a1.91,1.91,0,0,1,.58,1.4,1.91,1.91,0,0,1-.58,1.4L9.25,21ZM18.45,9,17,7.55Zm-12,3A5.31,5.31,0,0,0,4.9,8.1,5.31,5.31,0,0,0,1,6.5,5.31,5.31,0,0,0,4.9,4.9,5.31,5.31,0,0,0,6.5,1,5.31,5.31,0,0,0,8.1,4.9,5.31,5.31,0,0,0,12,6.5,5.46,5.46,0,0,0,6.5,12Z\"/>\n",
              "  </svg>\n",
              "    </button>\n",
              "    <script>\n",
              "      (() => {\n",
              "      const buttonEl =\n",
              "        document.querySelector('#id_87f4823d-4a7c-4043-948b-ac5cdb08eec1 button.colab-df-generate');\n",
              "      buttonEl.style.display =\n",
              "        google.colab.kernel.accessAllowed ? 'block' : 'none';\n",
              "\n",
              "      buttonEl.onclick = () => {\n",
              "        google.colab.notebook.generateWithVariable('goldset');\n",
              "      }\n",
              "      })();\n",
              "    </script>\n",
              "  </div>\n",
              "\n",
              "    </div>\n",
              "  </div>\n"
            ],
            "application/vnd.google.colaboratory.intrinsic+json": {
              "type": "dataframe",
              "variable_name": "goldset",
              "summary": "{\n  \"name\": \"goldset\",\n  \"rows\": 379,\n  \"fields\": [\n    {\n      \"column\": \"Date\",\n      \"properties\": {\n        \"dtype\": \"object\",\n        \"num_unique_values\": 379,\n        \"samples\": [\n          \"31-01-2014\",\n          \"30-08-2013\",\n          \"28-04-2017\"\n        ],\n        \"semantic_type\": \"\",\n        \"description\": \"\"\n      }\n    },\n    {\n      \"column\": \"United States(USD)\",\n      \"properties\": {\n        \"dtype\": \"number\",\n        \"std\": 511.6514947426878,\n        \"min\": 254.8,\n        \"max\": 1964.9,\n        \"num_unique_values\": 371,\n        \"samples\": [\n          1280.2,\n          339.3,\n          357.8\n        ],\n        \"semantic_type\": \"\",\n        \"description\": \"\"\n      }\n    },\n    {\n      \"column\": \"Europe(EUR)\",\n      \"properties\": {\n        \"dtype\": \"number\",\n        \"std\": 415.31365264209535,\n        \"min\": 224.5,\n        \"max\": 1661.7,\n        \"num_unique_values\": 361,\n        \"samples\": [\n          320.5,\n          255.0,\n          282.5\n        ],\n        \"semantic_type\": \"\",\n        \"description\": \"\"\n      }\n    },\n    {\n      \"column\": \"Japan(JPY)\",\n      \"properties\": {\n        \"dtype\": \"number\",\n        \"std\": 49272.60223606021,\n        \"min\": 27937.5,\n        \"max\": 207845.0,\n        \"num_unique_values\": 378,\n        \"samples\": [\n          127583.2,\n          140057.9,\n          136530.9\n        ],\n        \"semantic_type\": \"\",\n        \"description\": \"\"\n      }\n    },\n    {\n      \"column\": \"United Kingdom(GBP)\",\n      \"properties\": {\n        \"dtype\": \"number\",\n        \"std\": 375.3057615696735,\n        \"min\": 157.8,\n        \"max\": 1497.1,\n        \"num_unique_values\": 367,\n        \"samples\": [\n          327.8,\n          220.8,\n          207.5\n        ],\n        \"semantic_type\": \"\",\n        \"description\": \"\"\n      }\n    },\n    {\n      \"column\": \"Canada(CAD)\",\n      \"properties\": {\n        \"dtype\": \"number\",\n        \"std\": 589.4561306276537,\n        \"min\": 380.2,\n        \"max\": 2632.0,\n        \"num_unique_values\": 365,\n        \"samples\": [\n          778.8,\n          419.5,\n          412.1\n        ],\n        \"semantic_type\": \"\",\n        \"description\": \"\"\n      }\n    },\n    {\n      \"column\": \"Switzerland(CHF)\",\n      \"properties\": {\n        \"dtype\": \"number\",\n        \"std\": 411.03695926794717,\n        \"min\": 381.6,\n        \"max\": 1787.5,\n        \"num_unique_values\": 370,\n        \"samples\": [\n          1250.4,\n          467.9,\n          518.3\n        ],\n        \"semantic_type\": \"\",\n        \"description\": \"\"\n      }\n    },\n    {\n      \"column\": \"India(INR)\",\n      \"properties\": {\n        \"dtype\": \"number\",\n        \"std\": 37004.65181728292,\n        \"min\": 6140.5,\n        \"max\": 146999.1,\n        \"num_unique_values\": 379,\n        \"samples\": [\n          78381.4,\n          92151.1,\n          81470.7\n        ],\n        \"semantic_type\": \"\",\n        \"description\": \"\"\n      }\n    },\n    {\n      \"column\": \"China(CNY)\",\n      \"properties\": {\n        \"dtype\": \"number\",\n        \"std\": 3216.9431874746992,\n        \"min\": 1652.2,\n        \"max\": 13714.0,\n        \"num_unique_values\": 379,\n        \"samples\": [\n          7581.1,\n          8535.2,\n          8735.2\n        ],\n        \"semantic_type\": \"\",\n        \"description\": \"\"\n      }\n    },\n    {\n      \"column\": \"Turkey(TRY)\",\n      \"properties\": {\n        \"dtype\": \"number\",\n        \"std\": 3259.754864772945,\n        \"min\": 0.9,\n        \"max\": 16105.4,\n        \"num_unique_values\": 355,\n        \"samples\": [\n          2085.5,\n          15.6,\n          2634.6\n        ],\n        \"semantic_type\": \"\",\n        \"description\": \"\"\n      }\n    },\n    {\n      \"column\": \"Saudi Arabia(SAR)\",\n      \"properties\": {\n        \"dtype\": \"number\",\n        \"std\": 1919.1392217082648,\n        \"min\": 955.6,\n        \"max\": 7369.2,\n        \"num_unique_values\": 374,\n        \"samples\": [\n          4801.0,\n          1272.3,\n          1318.2\n        ],\n        \"semantic_type\": \"\",\n        \"description\": \"\"\n      }\n    },\n    {\n      \"column\": \"Indonesia(IDR)\",\n      \"properties\": {\n        \"dtype\": \"number\",\n        \"std\": 7532845.214034798,\n        \"min\": 643678.6,\n        \"max\": 28687538.6,\n        \"num_unique_values\": 379,\n        \"samples\": [\n          15274710.0,\n          15230670.0,\n          16880511.4\n        ],\n        \"semantic_type\": \"\",\n        \"description\": \"\"\n      }\n    },\n    {\n      \"column\": \"United Arab Emirates(AED)\",\n      \"properties\": {\n        \"dtype\": \"number\",\n        \"std\": 1879.2888534877106,\n        \"min\": 935.9,\n        \"max\": 7217.4,\n        \"num_unique_values\": 375,\n        \"samples\": [\n          1454.0,\n          1245.9,\n          1290.8\n        ],\n        \"semantic_type\": \"\",\n        \"description\": \"\"\n      }\n    },\n    {\n      \"column\": \"Thailand(THB)\",\n      \"properties\": {\n        \"dtype\": \"number\",\n        \"std\": 16087.036285418984,\n        \"min\": 8356.9,\n        \"max\": 61270.5,\n        \"num_unique_values\": 377,\n        \"samples\": [\n          41295.5,\n          50357.7,\n          53933.2\n        ],\n        \"semantic_type\": \"\",\n        \"description\": \"\"\n      }\n    },\n    {\n      \"column\": \"Vietnam(VND)\",\n      \"properties\": {\n        \"dtype\": \"number\",\n        \"std\": 12764149.774991015,\n        \"min\": 1571727.9,\n        \"max\": 45539502.6,\n        \"num_unique_values\": 379,\n        \"samples\": [\n          26346060.0,\n          29505936.3,\n          28803504.5\n        ],\n        \"semantic_type\": \"\",\n        \"description\": \"\"\n      }\n    },\n    {\n      \"column\": \"Egypt(EGP)\",\n      \"properties\": {\n        \"dtype\": \"number\",\n        \"std\": 8125.828099170666,\n        \"min\": 870.1,\n        \"max\": 31379.5,\n        \"num_unique_values\": 376,\n        \"samples\": [\n          9402.3,\n          25030.4,\n          10513.7\n        ],\n        \"semantic_type\": \"\",\n        \"description\": \"\"\n      }\n    },\n    {\n      \"column\": \"South Korean(KRW)\",\n      \"properties\": {\n        \"dtype\": \"number\",\n        \"std\": 607039.882660803,\n        \"min\": 251163.5,\n        \"max\": 2340981.6,\n        \"num_unique_values\": 379,\n        \"samples\": [\n          1339007.7,\n          1548242.0,\n          1441093.3\n        ],\n        \"semantic_type\": \"\",\n        \"description\": \"\"\n      }\n    },\n    {\n      \"column\": \"Australia(AUD)\",\n      \"properties\": {\n        \"dtype\": \"number\",\n        \"std\": 603.6513540276045,\n        \"min\": 391.4,\n        \"max\": 2739.9,\n        \"num_unique_values\": 367,\n        \"samples\": [\n          839.8,\n          488.0,\n          456.2\n        ],\n        \"semantic_type\": \"\",\n        \"description\": \"\"\n      }\n    },\n    {\n      \"column\": \"South Africa(ZAR)\",\n      \"properties\": {\n        \"dtype\": \"number\",\n        \"std\": 7720.715836303477,\n        \"min\": 930.0,\n        \"max\": 33459.8,\n        \"num_unique_values\": 377,\n        \"samples\": [\n          13972.1,\n          13023.3,\n          13601.7\n        ],\n        \"semantic_type\": \"\",\n        \"description\": \"\"\n      }\n    }\n  ]\n}"
            }
          },
          "metadata": {},
          "execution_count": 105
        }
      ]
    },
    {
      "cell_type": "markdown",
      "source": [
        "---"
      ],
      "metadata": {
        "id": "S4jGru_qaz7p"
      }
    },
    {
      "cell_type": "code",
      "source": [
        "#@title Tipe Datetime\n",
        "goldset['Date'] = pd.to_datetime(goldset['Date'], format='%d-%m-%Y')"
      ],
      "metadata": {
        "cellView": "form",
        "id": "YHln7QDvVxqR"
      },
      "execution_count": 106,
      "outputs": []
    },
    {
      "cell_type": "markdown",
      "source": [
        "Tujuan:\n",
        "\n",
        "*   Mengubah kolom 'Date' menjadi tipe datetime penting karena tipe data datetime untuk melakukan berbagai operasi waktu yang tidak mungkin dilakukan pada string atau tipe data lainnya.\n",
        "---"
      ],
      "metadata": {
        "id": "2VckIJdSZpSx"
      }
    },
    {
      "cell_type": "code",
      "source": [
        "#@title Prediksi Emas Indonesia (Date, Indonesia(IDR))\n",
        "ID_goldset = goldset[['Date', 'Indonesia(IDR)']]\n",
        "ID_goldset"
      ],
      "metadata": {
        "colab": {
          "base_uri": "https://localhost:8080/",
          "height": 423
        },
        "cellView": "form",
        "id": "Kk9D0A18WeKw",
        "outputId": "13cc7428-5726-4c53-ff18-b795b7984b61"
      },
      "execution_count": 107,
      "outputs": [
        {
          "output_type": "execute_result",
          "data": {
            "text/plain": [
              "          Date  Indonesia(IDR)\n",
              "0   1990-01-31        745400.5\n",
              "1   1990-02-28        747408.3\n",
              "2   1990-03-30        652783.7\n",
              "3   1990-04-30        669724.5\n",
              "4   1990-05-31        671905.9\n",
              "..         ...             ...\n",
              "374 2021-03-31      24562502.0\n",
              "375 2021-04-30      25533702.8\n",
              "376 2021-05-31      27131285.3\n",
              "377 2021-06-30      25565673.6\n",
              "378 2021-07-30      26404909.4\n",
              "\n",
              "[379 rows x 2 columns]"
            ],
            "text/html": [
              "\n",
              "  <div id=\"df-2d03a68a-0d48-4ab2-ac8b-4606f82303ad\" class=\"colab-df-container\">\n",
              "    <div>\n",
              "<style scoped>\n",
              "    .dataframe tbody tr th:only-of-type {\n",
              "        vertical-align: middle;\n",
              "    }\n",
              "\n",
              "    .dataframe tbody tr th {\n",
              "        vertical-align: top;\n",
              "    }\n",
              "\n",
              "    .dataframe thead th {\n",
              "        text-align: right;\n",
              "    }\n",
              "</style>\n",
              "<table border=\"1\" class=\"dataframe\">\n",
              "  <thead>\n",
              "    <tr style=\"text-align: right;\">\n",
              "      <th></th>\n",
              "      <th>Date</th>\n",
              "      <th>Indonesia(IDR)</th>\n",
              "    </tr>\n",
              "  </thead>\n",
              "  <tbody>\n",
              "    <tr>\n",
              "      <th>0</th>\n",
              "      <td>1990-01-31</td>\n",
              "      <td>745400.5</td>\n",
              "    </tr>\n",
              "    <tr>\n",
              "      <th>1</th>\n",
              "      <td>1990-02-28</td>\n",
              "      <td>747408.3</td>\n",
              "    </tr>\n",
              "    <tr>\n",
              "      <th>2</th>\n",
              "      <td>1990-03-30</td>\n",
              "      <td>652783.7</td>\n",
              "    </tr>\n",
              "    <tr>\n",
              "      <th>3</th>\n",
              "      <td>1990-04-30</td>\n",
              "      <td>669724.5</td>\n",
              "    </tr>\n",
              "    <tr>\n",
              "      <th>4</th>\n",
              "      <td>1990-05-31</td>\n",
              "      <td>671905.9</td>\n",
              "    </tr>\n",
              "    <tr>\n",
              "      <th>...</th>\n",
              "      <td>...</td>\n",
              "      <td>...</td>\n",
              "    </tr>\n",
              "    <tr>\n",
              "      <th>374</th>\n",
              "      <td>2021-03-31</td>\n",
              "      <td>24562502.0</td>\n",
              "    </tr>\n",
              "    <tr>\n",
              "      <th>375</th>\n",
              "      <td>2021-04-30</td>\n",
              "      <td>25533702.8</td>\n",
              "    </tr>\n",
              "    <tr>\n",
              "      <th>376</th>\n",
              "      <td>2021-05-31</td>\n",
              "      <td>27131285.3</td>\n",
              "    </tr>\n",
              "    <tr>\n",
              "      <th>377</th>\n",
              "      <td>2021-06-30</td>\n",
              "      <td>25565673.6</td>\n",
              "    </tr>\n",
              "    <tr>\n",
              "      <th>378</th>\n",
              "      <td>2021-07-30</td>\n",
              "      <td>26404909.4</td>\n",
              "    </tr>\n",
              "  </tbody>\n",
              "</table>\n",
              "<p>379 rows × 2 columns</p>\n",
              "</div>\n",
              "    <div class=\"colab-df-buttons\">\n",
              "\n",
              "  <div class=\"colab-df-container\">\n",
              "    <button class=\"colab-df-convert\" onclick=\"convertToInteractive('df-2d03a68a-0d48-4ab2-ac8b-4606f82303ad')\"\n",
              "            title=\"Convert this dataframe to an interactive table.\"\n",
              "            style=\"display:none;\">\n",
              "\n",
              "  <svg xmlns=\"http://www.w3.org/2000/svg\" height=\"24px\" viewBox=\"0 -960 960 960\">\n",
              "    <path d=\"M120-120v-720h720v720H120Zm60-500h600v-160H180v160Zm220 220h160v-160H400v160Zm0 220h160v-160H400v160ZM180-400h160v-160H180v160Zm440 0h160v-160H620v160ZM180-180h160v-160H180v160Zm440 0h160v-160H620v160Z\"/>\n",
              "  </svg>\n",
              "    </button>\n",
              "\n",
              "  <style>\n",
              "    .colab-df-container {\n",
              "      display:flex;\n",
              "      gap: 12px;\n",
              "    }\n",
              "\n",
              "    .colab-df-convert {\n",
              "      background-color: #E8F0FE;\n",
              "      border: none;\n",
              "      border-radius: 50%;\n",
              "      cursor: pointer;\n",
              "      display: none;\n",
              "      fill: #1967D2;\n",
              "      height: 32px;\n",
              "      padding: 0 0 0 0;\n",
              "      width: 32px;\n",
              "    }\n",
              "\n",
              "    .colab-df-convert:hover {\n",
              "      background-color: #E2EBFA;\n",
              "      box-shadow: 0px 1px 2px rgba(60, 64, 67, 0.3), 0px 1px 3px 1px rgba(60, 64, 67, 0.15);\n",
              "      fill: #174EA6;\n",
              "    }\n",
              "\n",
              "    .colab-df-buttons div {\n",
              "      margin-bottom: 4px;\n",
              "    }\n",
              "\n",
              "    [theme=dark] .colab-df-convert {\n",
              "      background-color: #3B4455;\n",
              "      fill: #D2E3FC;\n",
              "    }\n",
              "\n",
              "    [theme=dark] .colab-df-convert:hover {\n",
              "      background-color: #434B5C;\n",
              "      box-shadow: 0px 1px 3px 1px rgba(0, 0, 0, 0.15);\n",
              "      filter: drop-shadow(0px 1px 2px rgba(0, 0, 0, 0.3));\n",
              "      fill: #FFFFFF;\n",
              "    }\n",
              "  </style>\n",
              "\n",
              "    <script>\n",
              "      const buttonEl =\n",
              "        document.querySelector('#df-2d03a68a-0d48-4ab2-ac8b-4606f82303ad button.colab-df-convert');\n",
              "      buttonEl.style.display =\n",
              "        google.colab.kernel.accessAllowed ? 'block' : 'none';\n",
              "\n",
              "      async function convertToInteractive(key) {\n",
              "        const element = document.querySelector('#df-2d03a68a-0d48-4ab2-ac8b-4606f82303ad');\n",
              "        const dataTable =\n",
              "          await google.colab.kernel.invokeFunction('convertToInteractive',\n",
              "                                                    [key], {});\n",
              "        if (!dataTable) return;\n",
              "\n",
              "        const docLinkHtml = 'Like what you see? Visit the ' +\n",
              "          '<a target=\"_blank\" href=https://colab.research.google.com/notebooks/data_table.ipynb>data table notebook</a>'\n",
              "          + ' to learn more about interactive tables.';\n",
              "        element.innerHTML = '';\n",
              "        dataTable['output_type'] = 'display_data';\n",
              "        await google.colab.output.renderOutput(dataTable, element);\n",
              "        const docLink = document.createElement('div');\n",
              "        docLink.innerHTML = docLinkHtml;\n",
              "        element.appendChild(docLink);\n",
              "      }\n",
              "    </script>\n",
              "  </div>\n",
              "\n",
              "\n",
              "<div id=\"df-4d800b04-c85f-4249-a93d-75be3e47703c\">\n",
              "  <button class=\"colab-df-quickchart\" onclick=\"quickchart('df-4d800b04-c85f-4249-a93d-75be3e47703c')\"\n",
              "            title=\"Suggest charts\"\n",
              "            style=\"display:none;\">\n",
              "\n",
              "<svg xmlns=\"http://www.w3.org/2000/svg\" height=\"24px\"viewBox=\"0 0 24 24\"\n",
              "     width=\"24px\">\n",
              "    <g>\n",
              "        <path d=\"M19 3H5c-1.1 0-2 .9-2 2v14c0 1.1.9 2 2 2h14c1.1 0 2-.9 2-2V5c0-1.1-.9-2-2-2zM9 17H7v-7h2v7zm4 0h-2V7h2v10zm4 0h-2v-4h2v4z\"/>\n",
              "    </g>\n",
              "</svg>\n",
              "  </button>\n",
              "\n",
              "<style>\n",
              "  .colab-df-quickchart {\n",
              "      --bg-color: #E8F0FE;\n",
              "      --fill-color: #1967D2;\n",
              "      --hover-bg-color: #E2EBFA;\n",
              "      --hover-fill-color: #174EA6;\n",
              "      --disabled-fill-color: #AAA;\n",
              "      --disabled-bg-color: #DDD;\n",
              "  }\n",
              "\n",
              "  [theme=dark] .colab-df-quickchart {\n",
              "      --bg-color: #3B4455;\n",
              "      --fill-color: #D2E3FC;\n",
              "      --hover-bg-color: #434B5C;\n",
              "      --hover-fill-color: #FFFFFF;\n",
              "      --disabled-bg-color: #3B4455;\n",
              "      --disabled-fill-color: #666;\n",
              "  }\n",
              "\n",
              "  .colab-df-quickchart {\n",
              "    background-color: var(--bg-color);\n",
              "    border: none;\n",
              "    border-radius: 50%;\n",
              "    cursor: pointer;\n",
              "    display: none;\n",
              "    fill: var(--fill-color);\n",
              "    height: 32px;\n",
              "    padding: 0;\n",
              "    width: 32px;\n",
              "  }\n",
              "\n",
              "  .colab-df-quickchart:hover {\n",
              "    background-color: var(--hover-bg-color);\n",
              "    box-shadow: 0 1px 2px rgba(60, 64, 67, 0.3), 0 1px 3px 1px rgba(60, 64, 67, 0.15);\n",
              "    fill: var(--button-hover-fill-color);\n",
              "  }\n",
              "\n",
              "  .colab-df-quickchart-complete:disabled,\n",
              "  .colab-df-quickchart-complete:disabled:hover {\n",
              "    background-color: var(--disabled-bg-color);\n",
              "    fill: var(--disabled-fill-color);\n",
              "    box-shadow: none;\n",
              "  }\n",
              "\n",
              "  .colab-df-spinner {\n",
              "    border: 2px solid var(--fill-color);\n",
              "    border-color: transparent;\n",
              "    border-bottom-color: var(--fill-color);\n",
              "    animation:\n",
              "      spin 1s steps(1) infinite;\n",
              "  }\n",
              "\n",
              "  @keyframes spin {\n",
              "    0% {\n",
              "      border-color: transparent;\n",
              "      border-bottom-color: var(--fill-color);\n",
              "      border-left-color: var(--fill-color);\n",
              "    }\n",
              "    20% {\n",
              "      border-color: transparent;\n",
              "      border-left-color: var(--fill-color);\n",
              "      border-top-color: var(--fill-color);\n",
              "    }\n",
              "    30% {\n",
              "      border-color: transparent;\n",
              "      border-left-color: var(--fill-color);\n",
              "      border-top-color: var(--fill-color);\n",
              "      border-right-color: var(--fill-color);\n",
              "    }\n",
              "    40% {\n",
              "      border-color: transparent;\n",
              "      border-right-color: var(--fill-color);\n",
              "      border-top-color: var(--fill-color);\n",
              "    }\n",
              "    60% {\n",
              "      border-color: transparent;\n",
              "      border-right-color: var(--fill-color);\n",
              "    }\n",
              "    80% {\n",
              "      border-color: transparent;\n",
              "      border-right-color: var(--fill-color);\n",
              "      border-bottom-color: var(--fill-color);\n",
              "    }\n",
              "    90% {\n",
              "      border-color: transparent;\n",
              "      border-bottom-color: var(--fill-color);\n",
              "    }\n",
              "  }\n",
              "</style>\n",
              "\n",
              "  <script>\n",
              "    async function quickchart(key) {\n",
              "      const quickchartButtonEl =\n",
              "        document.querySelector('#' + key + ' button');\n",
              "      quickchartButtonEl.disabled = true;  // To prevent multiple clicks.\n",
              "      quickchartButtonEl.classList.add('colab-df-spinner');\n",
              "      try {\n",
              "        const charts = await google.colab.kernel.invokeFunction(\n",
              "            'suggestCharts', [key], {});\n",
              "      } catch (error) {\n",
              "        console.error('Error during call to suggestCharts:', error);\n",
              "      }\n",
              "      quickchartButtonEl.classList.remove('colab-df-spinner');\n",
              "      quickchartButtonEl.classList.add('colab-df-quickchart-complete');\n",
              "    }\n",
              "    (() => {\n",
              "      let quickchartButtonEl =\n",
              "        document.querySelector('#df-4d800b04-c85f-4249-a93d-75be3e47703c button');\n",
              "      quickchartButtonEl.style.display =\n",
              "        google.colab.kernel.accessAllowed ? 'block' : 'none';\n",
              "    })();\n",
              "  </script>\n",
              "</div>\n",
              "\n",
              "  <div id=\"id_f2c03d59-7f13-4f6a-b6c4-09512183fb82\">\n",
              "    <style>\n",
              "      .colab-df-generate {\n",
              "        background-color: #E8F0FE;\n",
              "        border: none;\n",
              "        border-radius: 50%;\n",
              "        cursor: pointer;\n",
              "        display: none;\n",
              "        fill: #1967D2;\n",
              "        height: 32px;\n",
              "        padding: 0 0 0 0;\n",
              "        width: 32px;\n",
              "      }\n",
              "\n",
              "      .colab-df-generate:hover {\n",
              "        background-color: #E2EBFA;\n",
              "        box-shadow: 0px 1px 2px rgba(60, 64, 67, 0.3), 0px 1px 3px 1px rgba(60, 64, 67, 0.15);\n",
              "        fill: #174EA6;\n",
              "      }\n",
              "\n",
              "      [theme=dark] .colab-df-generate {\n",
              "        background-color: #3B4455;\n",
              "        fill: #D2E3FC;\n",
              "      }\n",
              "\n",
              "      [theme=dark] .colab-df-generate:hover {\n",
              "        background-color: #434B5C;\n",
              "        box-shadow: 0px 1px 3px 1px rgba(0, 0, 0, 0.15);\n",
              "        filter: drop-shadow(0px 1px 2px rgba(0, 0, 0, 0.3));\n",
              "        fill: #FFFFFF;\n",
              "      }\n",
              "    </style>\n",
              "    <button class=\"colab-df-generate\" onclick=\"generateWithVariable('ID_goldset')\"\n",
              "            title=\"Generate code using this dataframe.\"\n",
              "            style=\"display:none;\">\n",
              "\n",
              "  <svg xmlns=\"http://www.w3.org/2000/svg\" height=\"24px\"viewBox=\"0 0 24 24\"\n",
              "       width=\"24px\">\n",
              "    <path d=\"M7,19H8.4L18.45,9,17,7.55,7,17.6ZM5,21V16.75L18.45,3.32a2,2,0,0,1,2.83,0l1.4,1.43a1.91,1.91,0,0,1,.58,1.4,1.91,1.91,0,0,1-.58,1.4L9.25,21ZM18.45,9,17,7.55Zm-12,3A5.31,5.31,0,0,0,4.9,8.1,5.31,5.31,0,0,0,1,6.5,5.31,5.31,0,0,0,4.9,4.9,5.31,5.31,0,0,0,6.5,1,5.31,5.31,0,0,0,8.1,4.9,5.31,5.31,0,0,0,12,6.5,5.46,5.46,0,0,0,6.5,12Z\"/>\n",
              "  </svg>\n",
              "    </button>\n",
              "    <script>\n",
              "      (() => {\n",
              "      const buttonEl =\n",
              "        document.querySelector('#id_f2c03d59-7f13-4f6a-b6c4-09512183fb82 button.colab-df-generate');\n",
              "      buttonEl.style.display =\n",
              "        google.colab.kernel.accessAllowed ? 'block' : 'none';\n",
              "\n",
              "      buttonEl.onclick = () => {\n",
              "        google.colab.notebook.generateWithVariable('ID_goldset');\n",
              "      }\n",
              "      })();\n",
              "    </script>\n",
              "  </div>\n",
              "\n",
              "    </div>\n",
              "  </div>\n"
            ],
            "application/vnd.google.colaboratory.intrinsic+json": {
              "type": "dataframe",
              "variable_name": "ID_goldset",
              "summary": "{\n  \"name\": \"ID_goldset\",\n  \"rows\": 379,\n  \"fields\": [\n    {\n      \"column\": \"Date\",\n      \"properties\": {\n        \"dtype\": \"date\",\n        \"min\": \"1990-01-31 00:00:00\",\n        \"max\": \"2021-07-30 00:00:00\",\n        \"num_unique_values\": 379,\n        \"samples\": [\n          \"2014-01-31 00:00:00\",\n          \"2013-08-30 00:00:00\",\n          \"2017-04-28 00:00:00\"\n        ],\n        \"semantic_type\": \"\",\n        \"description\": \"\"\n      }\n    },\n    {\n      \"column\": \"Indonesia(IDR)\",\n      \"properties\": {\n        \"dtype\": \"number\",\n        \"std\": 7532845.214034798,\n        \"min\": 643678.6,\n        \"max\": 28687538.6,\n        \"num_unique_values\": 379,\n        \"samples\": [\n          15274710.0,\n          15230670.0,\n          16880511.4\n        ],\n        \"semantic_type\": \"\",\n        \"description\": \"\"\n      }\n    }\n  ]\n}"
            }
          },
          "metadata": {},
          "execution_count": 107
        }
      ]
    },
    {
      "cell_type": "markdown",
      "source": [
        "Fokus prediksi dilakukan di negara Indonesia saja.\n",
        "\n",
        "---"
      ],
      "metadata": {
        "id": "yFbnbNQuaKCx"
      }
    },
    {
      "cell_type": "code",
      "source": [
        "#@title Mengubah Tanggal Menjadi Nilai Ordinal\n",
        "ID_goldset['Tanggal_ordinal'] = ID_goldset['Date'].map(pd.Timestamp.toordinal)\n",
        "x_tanggal = ID_goldset[['Tanggal_ordinal']]\n",
        "y_harga = ID_goldset['Indonesia(IDR)']"
      ],
      "metadata": {
        "colab": {
          "base_uri": "https://localhost:8080/"
        },
        "collapsed": true,
        "cellView": "form",
        "id": "UyZQecycXf2p",
        "outputId": "e7096cb8-ed97-40a7-f858-d07143029055"
      },
      "execution_count": 108,
      "outputs": [
        {
          "output_type": "stream",
          "name": "stderr",
          "text": [
            "<ipython-input-108-22762acb00f7>:2: SettingWithCopyWarning: \n",
            "A value is trying to be set on a copy of a slice from a DataFrame.\n",
            "Try using .loc[row_indexer,col_indexer] = value instead\n",
            "\n",
            "See the caveats in the documentation: https://pandas.pydata.org/pandas-docs/stable/user_guide/indexing.html#returning-a-view-versus-a-copy\n",
            "  ID_goldset['Tanggal_ordinal'] = ID_goldset['Date'].map(pd.Timestamp.toordinal)\n"
          ]
        }
      ]
    },
    {
      "cell_type": "markdown",
      "source": [
        "Tujuan:\n",
        "*   Mengubah tanggal menjadi nilai ordinal berarti mengubah nilai tanggal menjadi nilai numerik yang dapat digunakan sebagai fitur dalam model regresi linear. Ini dilakukan karena model regresi linear tidak dapat langsung menangani tipe data datetime.\n",
        "*   Tanggal ordinal adalah representasi dari tanggal dalam bentuk jumlah hari yang telah berlalu sejak tanggal referensi tertentu, biasanya 1 Januari 1 Masehi. Angka ordinal ini memungkinkan kita untuk menggunakan tanggal sebagai fitur numerik dalam model machine learning.\n",
        "---\n"
      ],
      "metadata": {
        "id": "7y528kVnbBuq"
      }
    },
    {
      "cell_type": "code",
      "source": [
        "import numpy as np\n",
        "from sklearn.model_selection import train_test_split\n",
        "\n",
        "#@title Membagi Data (Pelatihan, Pengujian)\n",
        "x_train, x_test, y_train, y_test, = train_test_split(x_tanggal, y_harga, test_size=0.3, shuffle=False)"
      ],
      "metadata": {
        "cellView": "form",
        "id": "xEE4L0mmboqK"
      },
      "execution_count": 109,
      "outputs": []
    },
    {
      "cell_type": "markdown",
      "source": [
        "Membagi data pelatihan menjadi 70%, dan data tes 30%. Tujuannya split supaya 70% data untuk melatih model prediksi dan 30% untuk menguji model prediksi.\n",
        "\n",
        "---\n"
      ],
      "metadata": {
        "id": "ZIuU9DnHdX-b"
      }
    },
    {
      "cell_type": "code",
      "source": [
        "#@title Plot Sebaran Data dengan Garis Linear\n",
        "import matplotlib.pyplot as plt\n",
        "\n",
        "plt.figure(figsize=(10,6))\n",
        "plt.scatter(x_train, y_train, label='Data Pelatihan')\n",
        "plt.scatter(x_test, y_test, label='Data Pengujian')\n",
        "plt.plot(x_train, model.predict(x_train), color='r', linewidth=3, label='Garis Linear')\n",
        "plt.plot(x_test, model.predict(x_test), color='r', linewidth=3)\n",
        "plt.xlabel('Tanggal')\n",
        "plt.ylabel('Harga Emas')\n",
        "plt.title('Sebaran Data')\n",
        "plt.legend()\n",
        "plt.show()"
      ],
      "metadata": {
        "colab": {
          "base_uri": "https://localhost:8080/",
          "height": 564
        },
        "cellView": "form",
        "id": "TqysNM_fFUoV",
        "outputId": "74fcd9a7-6eb9-474c-d189-20d7d472c2ce"
      },
      "execution_count": 110,
      "outputs": [
        {
          "output_type": "display_data",
          "data": {
            "text/plain": [
              "<Figure size 1000x600 with 1 Axes>"
            ],
            "image/png": "[encoded data removed]"
          },
          "metadata": {}
        }
      ]
    },
    {
      "cell_type": "markdown",
      "source": [
        "---"
      ],
      "metadata": {
        "id": "Jjb6SGq1G6tX"
      }
    },
    {
      "cell_type": "code",
      "source": [
        "#@title R-Square\n",
        "from sklearn.metrics import r2_score\n",
        "\n",
        "r2_train = r2_score(y_train, model.predict(x_train))\n",
        "r2_test = r2_score(y_test, model.predict(x_test))\n",
        "print(\"R-Square Pelatihan:\", r2_train)\n",
        "print(\"R-Square Pengujian:\", r2_test)"
      ],
      "metadata": {
        "colab": {
          "base_uri": "https://localhost:8080/"
        },
        "cellView": "form",
        "id": "_1OyPh-eL0yC",
        "outputId": "722fbde4-bc40-4491-ef1a-f6410bd28d3b"
      },
      "execution_count": 111,
      "outputs": [
        {
          "output_type": "stream",
          "name": "stdout",
          "text": [
            "R-Square Pelatihan: 0.7862671933044754\n",
            "R-Square Pengujian: -1.6711231890975813\n"
          ]
        }
      ]
    },
    {
      "cell_type": "markdown",
      "source": [
        "---"
      ],
      "metadata": {
        "id": "zQlgJMgYMCEX"
      }
    },
    {
      "cell_type": "code",
      "source": [
        "#@title Model Regresi Linear Sederhana\n",
        "from sklearn.linear_model import LinearRegression\n",
        "\n",
        "model = LinearRegression()\n",
        "model.fit(x_train, y_train)"
      ],
      "metadata": {
        "colab": {
          "base_uri": "https://localhost:8080/",
          "height": 74
        },
        "cellView": "form",
        "id": "a6toCDBqfHBp",
        "outputId": "5ba06c96-6d68-4645-d62e-3529e22210cc"
      },
      "execution_count": 112,
      "outputs": [
        {
          "output_type": "execute_result",
          "data": {
            "text/plain": [
              "LinearRegression()"
            ],
            "text/html": [
              "<style>#sk-container-id-4 {color: black;background-color: white;}#sk-container-id-4 pre{padding: 0;}#sk-container-id-4 div.sk-toggleable {background-color: white;}#sk-container-id-4 label.sk-toggleable__label {cursor: pointer;display: block;width: 100%;margin-bottom: 0;padding: 0.3em;box-sizing: border-box;text-align: center;}#sk-container-id-4 label.sk-toggleable__label-arrow:before {content: \"▸\";float: left;margin-right: 0.25em;color: #696969;}#sk-container-id-4 label.sk-toggleable__label-arrow:hover:before {color: black;}#sk-container-id-4 div.sk-estimator:hover label.sk-toggleable__label-arrow:before {color: black;}#sk-container-id-4 div.sk-toggleable__content {max-height: 0;max-width: 0;overflow: hidden;text-align: left;background-color: #f0f8ff;}#sk-container-id-4 div.sk-toggleable__content pre {margin: 0.2em;color: black;border-radius: 0.25em;background-color: #f0f8ff;}#sk-container-id-4 input.sk-toggleable__control:checked~div.sk-toggleable__content {max-height: 200px;max-width: 100%;overflow: auto;}#sk-container-id-4 input.sk-toggleable__control:checked~label.sk-toggleable__label-arrow:before {content: \"▾\";}#sk-container-id-4 div.sk-estimator input.sk-toggleable__control:checked~label.sk-toggleable__label {background-color: #d4ebff;}#sk-container-id-4 div.sk-label input.sk-toggleable__control:checked~label.sk-toggleable__label {background-color: #d4ebff;}#sk-container-id-4 input.sk-hidden--visually {border: 0;clip: rect(1px 1px 1px 1px);clip: rect(1px, 1px, 1px, 1px);height: 1px;margin: -1px;overflow: hidden;padding: 0;position: absolute;width: 1px;}#sk-container-id-4 div.sk-estimator {font-family: monospace;background-color: #f0f8ff;border: 1px dotted black;border-radius: 0.25em;box-sizing: border-box;margin-bottom: 0.5em;}#sk-container-id-4 div.sk-estimator:hover {background-color: #d4ebff;}#sk-container-id-4 div.sk-parallel-item::after {content: \"\";width: 100%;border-bottom: 1px solid gray;flex-grow: 1;}#sk-container-id-4 div.sk-label:hover label.sk-toggleable__label {background-color: #d4ebff;}#sk-container-id-4 div.sk-serial::before {content: \"\";position: absolute;border-left: 1px solid gray;box-sizing: border-box;top: 0;bottom: 0;left: 50%;z-index: 0;}#sk-container-id-4 div.sk-serial {display: flex;flex-direction: column;align-items: center;background-color: white;padding-right: 0.2em;padding-left: 0.2em;position: relative;}#sk-container-id-4 div.sk-item {position: relative;z-index: 1;}#sk-container-id-4 div.sk-parallel {display: flex;align-items: stretch;justify-content: center;background-color: white;position: relative;}#sk-container-id-4 div.sk-item::before, #sk-container-id-4 div.sk-parallel-item::before {content: \"\";position: absolute;border-left: 1px solid gray;box-sizing: border-box;top: 0;bottom: 0;left: 50%;z-index: -1;}#sk-container-id-4 div.sk-parallel-item {display: flex;flex-direction: column;z-index: 1;position: relative;background-color: white;}#sk-container-id-4 div.sk-parallel-item:first-child::after {align-self: flex-end;width: 50%;}#sk-container-id-4 div.sk-parallel-item:last-child::after {align-self: flex-start;width: 50%;}#sk-container-id-4 div.sk-parallel-item:only-child::after {width: 0;}#sk-container-id-4 div.sk-dashed-wrapped {border: 1px dashed gray;margin: 0 0.4em 0.5em 0.4em;box-sizing: border-box;padding-bottom: 0.4em;background-color: white;}#sk-container-id-4 div.sk-label label {font-family: monospace;font-weight: bold;display: inline-block;line-height: 1.2em;}#sk-container-id-4 div.sk-label-container {text-align: center;}#sk-container-id-4 div.sk-container {/* jupyter's `normalize.less` sets `[hidden] { display: none; }` but bootstrap.min.css set `[hidden] { display: none !important; }` so we also need the `!important` here to be able to override the default hidden behavior on the sphinx rendered scikit-learn.org. See: https://github.com/scikit-learn/scikit-learn/issues/21755 */display: inline-block !important;position: relative;}#sk-container-id-4 div.sk-text-repr-fallback {display: none;}</style><div id=\"sk-container-id-4\" class=\"sk-top-container\"><div class=\"sk-text-repr-fallback\"><pre>LinearRegression()</pre><b>In a Jupyter environment, please rerun this cell to show the HTML representation or trust the notebook. <br />On GitHub, the HTML representation is unable to render, please try loading this page with nbviewer.org.</b></div><div class=\"sk-container\" hidden><div class=\"sk-item\"><div class=\"sk-estimator sk-toggleable\"><input class=\"sk-toggleable__control sk-hidden--visually\" id=\"sk-estimator-id-4\" type=\"checkbox\" checked><label for=\"sk-estimator-id-4\" class=\"sk-toggleable__label sk-toggleable__label-arrow\">LinearRegression</label><div class=\"sk-toggleable__content\"><pre>LinearRegression()</pre></div></div></div></div></div>"
            ]
          },
          "metadata": {},
          "execution_count": 112
        }
      ]
    },
    {
      "cell_type": "markdown",
      "source": [
        "---"
      ],
      "metadata": {
        "id": "4Tg6pIUEggSd"
      }
    },
    {
      "cell_type": "code",
      "source": [
        "#@title Memprediksi Harga Emas pada Data Pengujian\n",
        "y_pred = model.predict(x_test)"
      ],
      "metadata": {
        "cellView": "form",
        "id": "KyQ7INtqgh1B"
      },
      "execution_count": 113,
      "outputs": []
    },
    {
      "cell_type": "code",
      "source": [
        "#@title Plot Tes Hasil Prediksi\n",
        "import matplotlib.pyplot as plt\n",
        "\n",
        "plt.figure(figsize=(10,6))\n",
        "plt.plot(x_test, y_test, label='Data Pengujian')\n",
        "plt.plot(x_test, y_pred, label='Hasil Prediksi')\n",
        "plt.xlabel('Tanggal')\n",
        "plt.ylabel('Harga Emas')\n",
        "plt.title('Prediksi Harga Emas Indonesia')\n",
        "plt.legend()\n",
        "plt.show()"
      ],
      "metadata": {
        "colab": {
          "base_uri": "https://localhost:8080/",
          "height": 564
        },
        "cellView": "form",
        "id": "VFMKHQ_kg1mj",
        "outputId": "eb2bca2f-afd2-40d7-859d-09c0cb83c9f3"
      },
      "execution_count": 114,
      "outputs": [
        {
          "output_type": "display_data",
          "data": {
            "text/plain": [
              "<Figure size 1000x600 with 1 Axes>"
            ],
            "image/png": "[encoded data removed]"
          },
          "metadata": {}
        }
      ]
    },
    {
      "cell_type": "markdown",
      "source": [
        "---"
      ],
      "metadata": {
        "id": "2x4Ptj7_itqy"
      }
    },
    {
      "cell_type": "code",
      "source": [
        "#@title Menghitung Residual\n",
        "residual = y_test - y_pred"
      ],
      "metadata": {
        "cellView": "form",
        "id": "xRtV1BzMhLDy"
      },
      "execution_count": 115,
      "outputs": []
    },
    {
      "cell_type": "code",
      "source": [
        "#@title Plot Residual vs Harga Terprediksi\n",
        "plt.figure(figsize=(10,6))\n",
        "plt.scatter(y_pred, residual)\n",
        "plt.axhline(y=0, color='r', linestyle='--', linewidth=3)\n",
        "plt.xlabel('Harga Terprediksi')\n",
        "plt.ylabel('Residual')\n",
        "plt.title('Residual vs Harga Terprediksi')\n",
        "plt.show()"
      ],
      "metadata": {
        "colab": {
          "base_uri": "https://localhost:8080/",
          "height": 564
        },
        "cellView": "form",
        "id": "hOFvRCXsq4si",
        "outputId": "0dd81cff-9c3a-4091-f374-4d211ac9c44a"
      },
      "execution_count": 116,
      "outputs": [
        {
          "output_type": "display_data",
          "data": {
            "text/plain": [
              "<Figure size 1000x600 with 1 Axes>"
            ],
            "image/png": "[encoded data removed]"
          },
          "metadata": {}
        }
      ]
    },
    {
      "cell_type": "markdown",
      "source": [
        "Pola residual menunjukan scatter tersebar secara acak pada gari horizontal dan menanjak yang artinya data mungkin belum baik.\n",
        "\n",
        "---"
      ],
      "metadata": {
        "id": "Sbdm6OIvr6lK"
      }
    },
    {
      "cell_type": "code",
      "source": [
        "#@title Uji Normalitas Residual (Menggunakan Tes Shapiro dan Kstest)\n",
        "from scipy.stats import shapiro, kstest\n",
        "shapiro_test = shapiro(residual)\n",
        "kstest_result = kstest(residual, 'norm', args=(residual.mean(), residual.std()))\n",
        "print(\"Shapiro-Wilk test:\", shapiro_test)\n",
        "print(\"Kolmogorov-Smirnov test:\", kstest_result)"
      ],
      "metadata": {
        "colab": {
          "base_uri": "https://localhost:8080/"
        },
        "cellView": "form",
        "id": "uT573z5Xr7t7",
        "outputId": "d12a14de-fec6-4ace-de64-4c8518b94b23"
      },
      "execution_count": 117,
      "outputs": [
        {
          "output_type": "stream",
          "name": "stdout",
          "text": [
            "Shapiro-Wilk test: ShapiroResult(statistic=0.7834941148757935, pvalue=1.1333101124222367e-11)\n",
            "Kolmogorov-Smirnov test: KstestResult(statistic=0.2617693040809189, pvalue=2.2133671815510206e-07, statistic_location=5310804.740676641, statistic_sign=1)\n"
          ]
        }
      ]
    },
    {
      "cell_type": "markdown",
      "source": [
        "Shapiro-Wilk Test\n",
        "*   Statistik Shapiro-Wilk: 0.7834941148757935\n",
        "*   P-value: 1.1333101124222367e-11\n",
        "\n",
        "Kolmogorov-Smirnov Test\n",
        "*   Statistik Kolmogorov-Smirnov: 0.2617693040809189\n",
        "*   P-value: 2.2133671815510206e-07\n",
        "\n",
        "Interpretasi\n",
        "\n",
        "`Shapiro-Wilk Test:`\n",
        "\n",
        "P-value yang sangat kecil (lebih kecil dari 0.05) menunjukkan bahwa kita menolak hipotesis nol (H0) yang menyatakan bahwa data residual mengikuti distribusi normal.\n",
        "Dengan kata lain, hasil uji ini mengindikasikan bahwa residual tidak berdistribusi normal.\n",
        "\n",
        "`Kolmogorov-Smirnov Test:`\n",
        "\n",
        "P-value yang sangat kecil (lebih kecil dari 0.05) juga menunjukkan bahwa kita menolak hipotesis nol (H0) yang menyatakan bahwa data residual mengikuti distribusi normal.\n",
        "Hasil ini juga mendukung temuan dari uji Shapiro-Wilk bahwa residual tidak berdistribusi normal.\n",
        "\n",
        "`Karena masih menolak H0, maka bisa dilakukan transformasi data.`\n",
        "\n",
        "---\n"
      ],
      "metadata": {
        "id": "uhvqLqYXxeBr"
      }
    },
    {
      "cell_type": "code",
      "source": [
        "#@title Uji Heteroskedastisita\n",
        "import statsmodels.api as sm\n",
        "from statsmodels.stats.diagnostic import het_breuschpagan\n",
        "\n",
        "x_test_const = sm.add_constant(x_test)\n",
        "bp_test = het_breuschpagan(residual, x_test_const)\n",
        "labels = ['LM Statistik', 'LM-Test p-value', 'F-Statistik', 'F-Test p-value']\n",
        "print(dict(zip(labels, bp_test)))"
      ],
      "metadata": {
        "colab": {
          "base_uri": "https://localhost:8080/"
        },
        "cellView": "form",
        "id": "KjaIqxpl48gz",
        "outputId": "03791fb0-b4af-40b4-a38d-c317cd11bbbd"
      },
      "execution_count": 118,
      "outputs": [
        {
          "output_type": "stream",
          "name": "stdout",
          "text": [
            "{'LM Statistik': 45.39396256512207, 'LM-Test p-value': 1.6113030812688102e-11, 'F-Statistik': 74.10606992306782, 'F-Test p-value': 5.2523373044332347e-14}\n"
          ]
        }
      ]
    },
    {
      "cell_type": "markdown",
      "source": [
        "Hasil pengujian menunjukan bahwa data terjadi gejala heteroskedastisitas\n",
        "\n",
        "---"
      ],
      "metadata": {
        "id": "YQC1HfBL7ifz"
      }
    },
    {
      "cell_type": "code",
      "source": [
        "#@title Uji Autokorelasi\n",
        "from statsmodels.stats.stattools import durbin_watson\n",
        "durbin_watson(residual)"
      ],
      "metadata": {
        "colab": {
          "base_uri": "https://localhost:8080/"
        },
        "cellView": "form",
        "id": "AYV5yy2g7snD",
        "outputId": "020e8935-e616-40d3-c8cb-f804bbc57bb9"
      },
      "execution_count": 119,
      "outputs": [
        {
          "output_type": "execute_result",
          "data": {
            "text/plain": [
              "0.01765131534989532"
            ]
          },
          "metadata": {},
          "execution_count": 119
        }
      ]
    },
    {
      "cell_type": "markdown",
      "source": [
        "Hasil autokorelasi menunjukan bahwa nilai kurang dari 0.05 yang artinya menolah H0 (terjadi gejalan atutokorelasi)\n",
        "\n",
        "---"
      ],
      "metadata": {
        "id": "Q6Su5bFL8OTE"
      }
    },
    {
      "cell_type": "markdown",
      "source": [
        "***Kesimpulan sebelum model digunakan yaitu model masih belum cocok untuk digunakan dalam memprediksi. Namun saya coba pakai dan tidak transform datanya untuk bahan uji coba.***\n",
        "\n",
        "---\n",
        "\n"
      ],
      "metadata": {
        "id": "GY8UQAON8iwa"
      }
    },
    {
      "cell_type": "code",
      "source": [
        "#@title Perkiraan Nilai 4 Tahun Kedepan\n",
        "tanggal_terakhir = ID_goldset['Date'].max()\n",
        "tanggal_masa_depan = pd.date_range(start=tanggal_terakhir, periods=4*12, freq='M')\n",
        "tmasa_depan_ordinal = tanggal_masa_depan.map(pd.Timestamp.toordinal).values.reshape(-1, 1)"
      ],
      "metadata": {
        "cellView": "form",
        "id": "4bJ_7z_z9BeD"
      },
      "execution_count": 120,
      "outputs": []
    },
    {
      "cell_type": "code",
      "source": [
        "#@title Prediksi 4 Tahun\n",
        "prediksi_harga = model.predict(tmasa_depan_ordinal)"
      ],
      "metadata": {
        "colab": {
          "base_uri": "https://localhost:8080/"
        },
        "cellView": "form",
        "id": "3vizxuQM-aDb",
        "outputId": "23448232-60ec-406f-ffe7-2e617baff9ad"
      },
      "execution_count": 121,
      "outputs": [
        {
          "output_type": "stream",
          "name": "stderr",
          "text": [
            "/usr/local/lib/python3.10/dist-packages/sklearn/base.py:439: UserWarning: X does not have valid feature names, but LinearRegression was fitted with feature names\n",
            "  warnings.warn(\n"
          ]
        }
      ]
    },
    {
      "cell_type": "code",
      "source": [
        "#@title Plot Hasil Prediksi 4 Tahun Kedepan (Harga Aktual vs Terprediksi)\n",
        "plt.figure(figsize=(10,6))\n",
        "plt.plot(ID_goldset['Date'], ID_goldset['Indonesia(IDR)'], label='Harga Aktual')\n",
        "plt.plot(tanggal_masa_depan, prediksi_harga, label='Terprediksi')\n",
        "plt.xlabel('Tanggal')\n",
        "plt.ylabel('Harga Emas')\n",
        "plt.title('Prediksi Harga Emas Indonesia (4 Tahun Kedepan)')\n",
        "plt.legend()\n",
        "plt.show()"
      ],
      "metadata": {
        "colab": {
          "base_uri": "https://localhost:8080/",
          "height": 564
        },
        "cellView": "form",
        "id": "uL43VdxxANd0",
        "outputId": "d2ca5e77-52c7-4715-cde7-8b143dbbc726"
      },
      "execution_count": 122,
      "outputs": [
        {
          "output_type": "display_data",
          "data": {
            "text/plain": [
              "<Figure size 1000x600 with 1 Axes>"
            ],
            "image/png": "[encoded data removed]"
          },
          "metadata": {}
        }
      ]
    },
    {
      "cell_type": "markdown",
      "source": [
        "Hasil prediksi menunjukan harganya naik. Namun disini saya pakai data yang tidak linear, jadi hasil prediksinya bisa meleset. Faktornya dilihat dari hasil pengujian linearitas, heteroskedastisitas, autokorelasi dan normalitas residual.\n",
        "\n",
        "---"
      ],
      "metadata": {
        "id": "MXOgVicCBoQB"
      }
    }
  ]
}